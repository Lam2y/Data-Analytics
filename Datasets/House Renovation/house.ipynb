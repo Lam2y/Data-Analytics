{
 "cells": [
  {
   "cell_type": "code",
   "execution_count": 2,
   "metadata": {},
   "outputs": [
    {
     "name": "stderr",
     "output_type": "stream",
     "text": [
      "C:\\Users\\USER\\AppData\\Local\\Temp\\ipykernel_7228\\2162656668.py:1: DeprecationWarning: \n",
      "Pyarrow will become a required dependency of pandas in the next major release of pandas (pandas 3.0),\n",
      "(to allow more performant data types, such as the Arrow string type, and better interoperability with other libraries)\n",
      "but was not found to be installed on your system.\n",
      "If this would cause problems for you,\n",
      "please provide us feedback at https://github.com/pandas-dev/pandas/issues/54466\n",
      "        \n",
      "  import pandas as pd\n"
     ]
    }
   ],
   "source": [
    "import pandas as pd\n",
    "import numpy as np"
   ]
  },
  {
   "cell_type": "code",
   "execution_count": 3,
   "metadata": {},
   "outputs": [],
   "source": [
    "df = pd.read_csv(\"data.csv\")"
   ]
  },
  {
   "cell_type": "code",
   "execution_count": 4,
   "metadata": {},
   "outputs": [],
   "source": [
    "df_array = np.array(df)\n",
    "df_1D = np.array(df.iloc[0])\n",
    "df_2D = np.array(df.iloc[0:3])\n",
    "df_3D = np.array(df.iloc[0:3,4])"
   ]
  },
  {
   "cell_type": "code",
   "execution_count": 5,
   "metadata": {},
   "outputs": [
    {
     "data": {
      "text/html": [
       "<div>\n",
       "<style scoped>\n",
       "    .dataframe tbody tr th:only-of-type {\n",
       "        vertical-align: middle;\n",
       "    }\n",
       "\n",
       "    .dataframe tbody tr th {\n",
       "        vertical-align: top;\n",
       "    }\n",
       "\n",
       "    .dataframe thead th {\n",
       "        text-align: right;\n",
       "    }\n",
       "</style>\n",
       "<table border=\"1\" class=\"dataframe\">\n",
       "  <thead>\n",
       "    <tr style=\"text-align: right;\">\n",
       "      <th></th>\n",
       "      <th>Price</th>\n",
       "      <th>Apartment type</th>\n",
       "      <th>Metro station</th>\n",
       "      <th>Minutes to metro</th>\n",
       "      <th>Region</th>\n",
       "      <th>Number of rooms</th>\n",
       "      <th>Area</th>\n",
       "      <th>Living area</th>\n",
       "      <th>Kitchen area</th>\n",
       "      <th>Floor</th>\n",
       "      <th>Number of floors</th>\n",
       "      <th>Renovation</th>\n",
       "    </tr>\n",
       "  </thead>\n",
       "  <tbody>\n",
       "    <tr>\n",
       "      <th>1</th>\n",
       "      <td>9000000.0</td>\n",
       "      <td>Secondary</td>\n",
       "      <td>Павшино</td>\n",
       "      <td>2.0</td>\n",
       "      <td>Moscow region</td>\n",
       "      <td>1.0</td>\n",
       "      <td>49.2</td>\n",
       "      <td>20.0</td>\n",
       "      <td>10.0</td>\n",
       "      <td>6.0</td>\n",
       "      <td>15</td>\n",
       "      <td>European-style renovation</td>\n",
       "    </tr>\n",
       "    <tr>\n",
       "      <th>2</th>\n",
       "      <td>11090000.0</td>\n",
       "      <td>Secondary</td>\n",
       "      <td>Мякинино</td>\n",
       "      <td>14.0</td>\n",
       "      <td>Moscow region</td>\n",
       "      <td>1.0</td>\n",
       "      <td>44.7</td>\n",
       "      <td>16.2</td>\n",
       "      <td>13.1</td>\n",
       "      <td>10.0</td>\n",
       "      <td>25</td>\n",
       "      <td>Cosmetic</td>\n",
       "    </tr>\n",
       "  </tbody>\n",
       "</table>\n",
       "</div>"
      ],
      "text/plain": [
       "        Price Apartment type Metro station  Minutes to metro         Region  \\\n",
       "1   9000000.0      Secondary       Павшино               2.0  Moscow region   \n",
       "2  11090000.0      Secondary      Мякинино              14.0  Moscow region   \n",
       "\n",
       "   Number of rooms  Area  Living area  Kitchen area  Floor  Number of floors  \\\n",
       "1              1.0  49.2         20.0          10.0    6.0                15   \n",
       "2              1.0  44.7         16.2          13.1   10.0                25   \n",
       "\n",
       "                  Renovation  \n",
       "1  European-style renovation  \n",
       "2                   Cosmetic  "
      ]
     },
     "execution_count": 5,
     "metadata": {},
     "output_type": "execute_result"
    }
   ],
   "source": [
    "df1 = pd.DataFrame( df.iloc[0:3],range(1,3), columns=df.columns)\n",
    "df1"
   ]
  },
  {
   "cell_type": "code",
   "execution_count": 6,
   "metadata": {},
   "outputs": [
    {
     "data": {
      "text/html": [
       "<div>\n",
       "<style scoped>\n",
       "    .dataframe tbody tr th:only-of-type {\n",
       "        vertical-align: middle;\n",
       "    }\n",
       "\n",
       "    .dataframe tbody tr th {\n",
       "        vertical-align: top;\n",
       "    }\n",
       "\n",
       "    .dataframe thead th {\n",
       "        text-align: right;\n",
       "    }\n",
       "</style>\n",
       "<table border=\"1\" class=\"dataframe\">\n",
       "  <thead>\n",
       "    <tr style=\"text-align: right;\">\n",
       "      <th></th>\n",
       "      <th>Price</th>\n",
       "    </tr>\n",
       "    <tr>\n",
       "      <th>Apartment type</th>\n",
       "      <th></th>\n",
       "    </tr>\n",
       "  </thead>\n",
       "  <tbody>\n",
       "    <tr>\n",
       "      <th>New building</th>\n",
       "      <td>8.170584e+06</td>\n",
       "    </tr>\n",
       "    <tr>\n",
       "      <th>Secondary</th>\n",
       "      <td>5.636180e+07</td>\n",
       "    </tr>\n",
       "  </tbody>\n",
       "</table>\n",
       "</div>"
      ],
      "text/plain": [
       "                       Price\n",
       "Apartment type              \n",
       "New building    8.170584e+06\n",
       "Secondary       5.636180e+07"
      ]
     },
     "execution_count": 6,
     "metadata": {},
     "output_type": "execute_result"
    }
   ],
   "source": [
    "df_agg = df.groupby('Apartment type')[['Price']].mean()\n",
    "df_agg"
   ]
  },
  {
   "cell_type": "code",
   "execution_count": 7,
   "metadata": {},
   "outputs": [
    {
     "data": {
      "image/png": "[encoded data removed]",
      "text/plain": [
       "<Figure size 640x480 with 1 Axes>"
      ]
     },
     "metadata": {},
     "output_type": "display_data"
    }
   ],
   "source": [
    "import matplotlib.pyplot as plt\n",
    "plt.stackplot(df_agg.index, df_agg['Price'])\n",
    "plt.show()"
   ]
  },
  {
   "cell_type": "code",
   "execution_count": 8,
   "metadata": {},
   "outputs": [
    {
     "data": {
      "image/png": "[encoded data removed]",
      "text/plain": [
       "<Figure size 640x480 with 1 Axes>"
      ]
     },
     "metadata": {},
     "output_type": "display_data"
    }
   ],
   "source": [
    "plt.errorbar(df_agg.index, df_agg['Price'])\n",
    "plt.show()"
   ]
  }
 ],
 "metadata": {
  "kernelspec": {
   "display_name": "Python 3",
   "language": "python",
   "name": "python3"
  },
  "language_info": {
   "codemirror_mode": {
    "name": "ipython",
    "version": 3
   },
   "file_extension": ".py",
   "mimetype": "text/x-python",
   "name": "python",
   "nbconvert_exporter": "python",
   "pygments_lexer": "ipython3",
   "version": "3.12.7"
  }
 },
 "nbformat": 4,
 "nbformat_minor": 2
}
