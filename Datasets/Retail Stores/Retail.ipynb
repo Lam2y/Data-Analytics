{
 "cells": [
  {
   "cell_type": "code",
   "execution_count": 2,
   "metadata": {},
   "outputs": [],
   "source": [
    "import numpy as np\n",
    "import pandas as pd"
   ]
  },
  {
   "cell_type": "code",
   "execution_count": 3,
   "metadata": {},
   "outputs": [],
   "source": [
    "df = pd.read_excel(\"Retail_sales.xlsx\")"
   ]
  },
  {
   "cell_type": "code",
   "execution_count": 4,
   "metadata": {},
   "outputs": [],
   "source": [
    "df_array = np.array(df)\n",
    "df_1D = np.array(df.iloc[0])\n",
    "df_2D = np.array(df.iloc[0:3])\n",
    "df_3D = np.array(df.iloc[0:3,4])"
   ]
  },
  {
   "cell_type": "code",
   "execution_count": 5,
   "metadata": {},
   "outputs": [
    {
     "data": {
      "text/html": [
       "<div>\n",
       "<style scoped>\n",
       "    .dataframe tbody tr th:only-of-type {\n",
       "        vertical-align: middle;\n",
       "    }\n",
       "\n",
       "    .dataframe tbody tr th {\n",
       "        vertical-align: top;\n",
       "    }\n",
       "\n",
       "    .dataframe thead th {\n",
       "        text-align: right;\n",
       "    }\n",
       "</style>\n",
       "<table border=\"1\" class=\"dataframe\">\n",
       "  <thead>\n",
       "    <tr style=\"text-align: right;\">\n",
       "      <th></th>\n",
       "      <th>Store ID</th>\n",
       "      <th>Product ID</th>\n",
       "      <th>Date</th>\n",
       "      <th>Units Sold</th>\n",
       "      <th>Sales Revenue (USD)</th>\n",
       "      <th>Discount Percentage</th>\n",
       "      <th>Marketing Spend (USD)</th>\n",
       "      <th>Store Location</th>\n",
       "      <th>Product Category</th>\n",
       "      <th>Day of the Week</th>\n",
       "      <th>Holiday Effect</th>\n",
       "    </tr>\n",
       "  </thead>\n",
       "  <tbody>\n",
       "    <tr>\n",
       "      <th>1</th>\n",
       "      <td>Spearsland</td>\n",
       "      <td>52372247</td>\n",
       "      <td>2022-01-02</td>\n",
       "      <td>7</td>\n",
       "      <td>2665.53</td>\n",
       "      <td>0</td>\n",
       "      <td>0</td>\n",
       "      <td>Mauritania</td>\n",
       "      <td>Furniture</td>\n",
       "      <td>Sunday</td>\n",
       "      <td>False</td>\n",
       "    </tr>\n",
       "    <tr>\n",
       "      <th>2</th>\n",
       "      <td>Spearsland</td>\n",
       "      <td>52372247</td>\n",
       "      <td>2022-01-03</td>\n",
       "      <td>1</td>\n",
       "      <td>380.79</td>\n",
       "      <td>0</td>\n",
       "      <td>0</td>\n",
       "      <td>Saint Pierre and Miquelon</td>\n",
       "      <td>Furniture</td>\n",
       "      <td>Monday</td>\n",
       "      <td>False</td>\n",
       "    </tr>\n",
       "  </tbody>\n",
       "</table>\n",
       "</div>"
      ],
      "text/plain": [
       "     Store ID  Product ID       Date  Units Sold  Sales Revenue (USD)  \\\n",
       "1  Spearsland    52372247 2022-01-02           7              2665.53   \n",
       "2  Spearsland    52372247 2022-01-03           1               380.79   \n",
       "\n",
       "   Discount Percentage  Marketing Spend (USD)             Store Location  \\\n",
       "1                    0                      0                 Mauritania   \n",
       "2                    0                      0  Saint Pierre and Miquelon   \n",
       "\n",
       "  Product Category Day of the Week  Holiday Effect  \n",
       "1        Furniture          Sunday           False  \n",
       "2        Furniture          Monday           False  "
      ]
     },
     "execution_count": 5,
     "metadata": {},
     "output_type": "execute_result"
    }
   ],
   "source": [
    "df1 = pd.DataFrame( df.iloc[0:3],range(1,3), columns=df.columns)\n",
    "df1"
   ]
  },
  {
   "cell_type": "code",
   "execution_count": 6,
   "metadata": {},
   "outputs": [
    {
     "data": {
      "text/plain": [
       "Index(['Store ID', 'Product ID', 'Date', 'Units Sold', 'Sales Revenue (USD)',\n",
       "       'Discount Percentage', 'Marketing Spend (USD)', 'Store Location',\n",
       "       'Product Category', 'Day of the Week', 'Holiday Effect'],\n",
       "      dtype='object')"
      ]
     },
     "execution_count": 6,
     "metadata": {},
     "output_type": "execute_result"
    }
   ],
   "source": [
    "df.columns"
   ]
  },
  {
   "cell_type": "code",
   "execution_count": null,
   "metadata": {},
   "outputs": [],
   "source": [
    "import matplotlib.pyplot as plt\n",
    "import seaborn as sns\n",
    "\n",
    "sns.swarmplot(x='Holiday Effect', y='Sales Revenue (USD)', data=df ,hue='Product Category')\n",
    "plt.show()"
   ]
  }
 ],
 "metadata": {
  "kernelspec": {
   "display_name": "Python 3",
   "language": "python",
   "name": "python3"
  },
  "language_info": {
   "codemirror_mode": {
    "name": "ipython",
    "version": 3
   },
   "file_extension": ".py",
   "mimetype": "text/x-python",
   "name": "python",
   "nbconvert_exporter": "python",
   "pygments_lexer": "ipython3",
   "version": "3.12.7"
  }
 },
 "nbformat": 4,
 "nbformat_minor": 2
}
