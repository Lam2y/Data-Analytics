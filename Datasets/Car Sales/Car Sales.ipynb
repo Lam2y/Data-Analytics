{
 "cells": [
  {
   "cell_type": "code",
   "execution_count": 8,
   "metadata": {},
   "outputs": [],
   "source": [
    "import numpy as np\n",
    "import pandas as pd"
   ]
  },
  {
   "cell_type": "code",
   "execution_count": 9,
   "metadata": {},
   "outputs": [],
   "source": [
    "df = pd.read_excel(\"Car Sales.xlsx\")"
   ]
  },
  {
   "cell_type": "code",
   "execution_count": 10,
   "metadata": {},
   "outputs": [],
   "source": [
    "df_array = np.array(df)\n",
    "df_1D = np.array(df.iloc[0])\n",
    "df_2D = np.array(df.iloc[0:5])\n",
    "df_3D = np.array(df.iloc[0:3,4])"
   ]
  },
  {
   "cell_type": "code",
   "execution_count": 15,
   "metadata": {},
   "outputs": [
    {
     "data": {
      "text/html": [
       "<div>\n",
       "<style scoped>\n",
       "    .dataframe tbody tr th:only-of-type {\n",
       "        vertical-align: middle;\n",
       "    }\n",
       "\n",
       "    .dataframe tbody tr th {\n",
       "        vertical-align: top;\n",
       "    }\n",
       "\n",
       "    .dataframe thead th {\n",
       "        text-align: right;\n",
       "    }\n",
       "</style>\n",
       "<table border=\"1\" class=\"dataframe\">\n",
       "  <thead>\n",
       "    <tr style=\"text-align: right;\">\n",
       "      <th></th>\n",
       "      <th>Car_id</th>\n",
       "      <th>Date</th>\n",
       "      <th>Customer Name</th>\n",
       "      <th>Gender</th>\n",
       "      <th>Annual Income</th>\n",
       "      <th>Dealer_Name</th>\n",
       "      <th>Company</th>\n",
       "      <th>Model</th>\n",
       "      <th>Engine</th>\n",
       "      <th>Transmission</th>\n",
       "      <th>Color</th>\n",
       "      <th>Price ($)</th>\n",
       "      <th>Dealer_No</th>\n",
       "      <th>Body Style</th>\n",
       "      <th>Phone</th>\n",
       "      <th>Dealer_Region</th>\n",
       "    </tr>\n",
       "  </thead>\n",
       "  <tbody>\n",
       "    <tr>\n",
       "      <th>1</th>\n",
       "      <td>C_CND_000001</td>\n",
       "      <td>2022-01-02</td>\n",
       "      <td>Geraldine</td>\n",
       "      <td>Male</td>\n",
       "      <td>13500</td>\n",
       "      <td>Buddy Storbeck's Diesel Service Inc</td>\n",
       "      <td>Ford</td>\n",
       "      <td>Expedition</td>\n",
       "      <td>DoubleÂ Overhead Camshaft</td>\n",
       "      <td>Auto</td>\n",
       "      <td>Black</td>\n",
       "      <td>26000</td>\n",
       "      <td>06457-3834</td>\n",
       "      <td>SUV</td>\n",
       "      <td>8264678</td>\n",
       "      <td>Middletown</td>\n",
       "    </tr>\n",
       "    <tr>\n",
       "      <th>2</th>\n",
       "      <td>C_CND_000001</td>\n",
       "      <td>2022-01-02</td>\n",
       "      <td>Geraldine</td>\n",
       "      <td>Male</td>\n",
       "      <td>13500</td>\n",
       "      <td>Buddy Storbeck's Diesel Service Inc</td>\n",
       "      <td>Ford</td>\n",
       "      <td>Expedition</td>\n",
       "      <td>DoubleÂ Overhead Camshaft</td>\n",
       "      <td>Auto</td>\n",
       "      <td>Black</td>\n",
       "      <td>26000</td>\n",
       "      <td>06457-3834</td>\n",
       "      <td>SUV</td>\n",
       "      <td>8264678</td>\n",
       "      <td>Middletown</td>\n",
       "    </tr>\n",
       "    <tr>\n",
       "      <th>3</th>\n",
       "      <td>C_CND_000001</td>\n",
       "      <td>2022-01-02</td>\n",
       "      <td>Geraldine</td>\n",
       "      <td>Male</td>\n",
       "      <td>13500</td>\n",
       "      <td>Buddy Storbeck's Diesel Service Inc</td>\n",
       "      <td>Ford</td>\n",
       "      <td>Expedition</td>\n",
       "      <td>DoubleÂ Overhead Camshaft</td>\n",
       "      <td>Auto</td>\n",
       "      <td>Black</td>\n",
       "      <td>26000</td>\n",
       "      <td>06457-3834</td>\n",
       "      <td>SUV</td>\n",
       "      <td>8264678</td>\n",
       "      <td>Middletown</td>\n",
       "    </tr>\n",
       "  </tbody>\n",
       "</table>\n",
       "</div>"
      ],
      "text/plain": [
       "         Car_id       Date Customer Name Gender  Annual Income  \\\n",
       "1  C_CND_000001 2022-01-02     Geraldine   Male          13500   \n",
       "2  C_CND_000001 2022-01-02     Geraldine   Male          13500   \n",
       "3  C_CND_000001 2022-01-02     Geraldine   Male          13500   \n",
       "\n",
       "                           Dealer_Name Company       Model  \\\n",
       "1  Buddy Storbeck's Diesel Service Inc    Ford  Expedition   \n",
       "2  Buddy Storbeck's Diesel Service Inc    Ford  Expedition   \n",
       "3  Buddy Storbeck's Diesel Service Inc    Ford  Expedition   \n",
       "\n",
       "                      Engine Transmission  Color  Price ($)  Dealer_No   \\\n",
       "1  DoubleÂ Overhead Camshaft         Auto  Black      26000  06457-3834   \n",
       "2  DoubleÂ Overhead Camshaft         Auto  Black      26000  06457-3834   \n",
       "3  DoubleÂ Overhead Camshaft         Auto  Black      26000  06457-3834   \n",
       "\n",
       "  Body Style    Phone Dealer_Region  \n",
       "1        SUV  8264678    Middletown  \n",
       "2        SUV  8264678    Middletown  \n",
       "3        SUV  8264678    Middletown  "
      ]
     },
     "execution_count": 15,
     "metadata": {},
     "output_type": "execute_result"
    }
   ],
   "source": [
    "df1 = pd.DataFrame([df.iloc[0].values] , range(1,4) ,columns=df.columns)\n",
    "df1"
   ]
  }
 ],
 "metadata": {
  "kernelspec": {
   "display_name": "Python 3",
   "language": "python",
   "name": "python3"
  },
  "language_info": {
   "codemirror_mode": {
    "name": "ipython",
    "version": 3
   },
   "file_extension": ".py",
   "mimetype": "text/x-python",
   "name": "python",
   "nbconvert_exporter": "python",
   "pygments_lexer": "ipython3",
   "version": "3.12.7"
  }
 },
 "nbformat": 4,
 "nbformat_minor": 2
}
