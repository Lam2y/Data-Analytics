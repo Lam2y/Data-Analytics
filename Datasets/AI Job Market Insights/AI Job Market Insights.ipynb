{
 "cells": [
  {
   "cell_type": "code",
   "execution_count": 19,
   "metadata": {},
   "outputs": [],
   "source": [
    "import numpy as np\n",
    "import pandas as pd\n"
   ]
  },
  {
   "cell_type": "code",
   "execution_count": 20,
   "metadata": {},
   "outputs": [],
   "source": [
    "df=pd.read_excel('ai_job_market_insights.xlsx')\n"
   ]
  },
  {
   "cell_type": "code",
   "execution_count": 21,
   "metadata": {},
   "outputs": [],
   "source": [
    "df_array=np.array(df)"
   ]
  },
  {
   "cell_type": "code",
   "execution_count": 22,
   "metadata": {},
   "outputs": [],
   "source": [
    "df_1D = np.array(df.iloc[0])"
   ]
  },
  {
   "cell_type": "code",
   "execution_count": 23,
   "metadata": {},
   "outputs": [],
   "source": [
    "df_2D = np.array(df.iloc[0:5])"
   ]
  },
  {
   "cell_type": "code",
   "execution_count": 24,
   "metadata": {},
   "outputs": [],
   "source": [
    "df_3D = np.array(df.iloc[0:,5])"
   ]
  },
  {
   "cell_type": "code",
   "execution_count": 28,
   "metadata": {},
   "outputs": [
    {
     "data": {
      "text/html": [
       "<div>\n",
       "<style scoped>\n",
       "    .dataframe tbody tr th:only-of-type {\n",
       "        vertical-align: middle;\n",
       "    }\n",
       "\n",
       "    .dataframe tbody tr th {\n",
       "        vertical-align: top;\n",
       "    }\n",
       "\n",
       "    .dataframe thead th {\n",
       "        text-align: right;\n",
       "    }\n",
       "</style>\n",
       "<table border=\"1\" class=\"dataframe\">\n",
       "  <thead>\n",
       "    <tr style=\"text-align: right;\">\n",
       "      <th></th>\n",
       "      <th>Job_Title</th>\n",
       "      <th>Industry</th>\n",
       "      <th>Company_Size</th>\n",
       "      <th>Location</th>\n",
       "      <th>AI_Adoption_Level</th>\n",
       "      <th>Automation_Risk</th>\n",
       "      <th>Required_Skills</th>\n",
       "      <th>Salary_USD</th>\n",
       "      <th>Remote_Friendly</th>\n",
       "      <th>Job_Growth_Projection</th>\n",
       "    </tr>\n",
       "  </thead>\n",
       "  <tbody>\n",
       "    <tr>\n",
       "      <th>1</th>\n",
       "      <td>Marketing Specialist</td>\n",
       "      <td>Technology</td>\n",
       "      <td>Large</td>\n",
       "      <td>Singapore</td>\n",
       "      <td>Medium</td>\n",
       "      <td>High</td>\n",
       "      <td>Marketing</td>\n",
       "      <td>93792.562466</td>\n",
       "      <td>No</td>\n",
       "      <td>Decline</td>\n",
       "    </tr>\n",
       "    <tr>\n",
       "      <th>2</th>\n",
       "      <td>Marketing Specialist</td>\n",
       "      <td>Technology</td>\n",
       "      <td>Large</td>\n",
       "      <td>Singapore</td>\n",
       "      <td>Medium</td>\n",
       "      <td>High</td>\n",
       "      <td>Marketing</td>\n",
       "      <td>93792.562466</td>\n",
       "      <td>No</td>\n",
       "      <td>Decline</td>\n",
       "    </tr>\n",
       "    <tr>\n",
       "      <th>3</th>\n",
       "      <td>Marketing Specialist</td>\n",
       "      <td>Technology</td>\n",
       "      <td>Large</td>\n",
       "      <td>Singapore</td>\n",
       "      <td>Medium</td>\n",
       "      <td>High</td>\n",
       "      <td>Marketing</td>\n",
       "      <td>93792.562466</td>\n",
       "      <td>No</td>\n",
       "      <td>Decline</td>\n",
       "    </tr>\n",
       "  </tbody>\n",
       "</table>\n",
       "</div>"
      ],
      "text/plain": [
       "              Job_Title    Industry Company_Size   Location AI_Adoption_Level  \\\n",
       "1  Marketing Specialist  Technology        Large  Singapore            Medium   \n",
       "2  Marketing Specialist  Technology        Large  Singapore            Medium   \n",
       "3  Marketing Specialist  Technology        Large  Singapore            Medium   \n",
       "\n",
       "  Automation_Risk Required_Skills    Salary_USD Remote_Friendly  \\\n",
       "1            High       Marketing  93792.562466              No   \n",
       "2            High       Marketing  93792.562466              No   \n",
       "3            High       Marketing  93792.562466              No   \n",
       "\n",
       "  Job_Growth_Projection  \n",
       "1               Decline  \n",
       "2               Decline  \n",
       "3               Decline  "
      ]
     },
     "execution_count": 28,
     "metadata": {},
     "output_type": "execute_result"
    }
   ],
   "source": [
    "df1 = pd.DataFrame([df.iloc[1].values], index=range(1, 4),columns=df.columns)\n",
    "# df.iloc[0].values\n",
    "df1"
   ]
  }
 ],
 "metadata": {
  "kernelspec": {
   "display_name": "Python 3",
   "language": "python",
   "name": "python3"
  },
  "language_info": {
   "codemirror_mode": {
    "name": "ipython",
    "version": 3
   },
   "file_extension": ".py",
   "mimetype": "text/x-python",
   "name": "python",
   "nbconvert_exporter": "python",
   "pygments_lexer": "ipython3",
   "version": "3.12.7"
  }
 },
 "nbformat": 4,
 "nbformat_minor": 2
}
