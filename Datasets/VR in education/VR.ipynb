{
 "cells": [
  {
   "cell_type": "code",
   "execution_count": 1,
   "metadata": {},
   "outputs": [
    {
     "name": "stderr",
     "output_type": "stream",
     "text": [
      "C:\\Users\\USER\\AppData\\Local\\Temp\\ipykernel_11284\\3269992828.py:2: DeprecationWarning: \n",
      "Pyarrow will become a required dependency of pandas in the next major release of pandas (pandas 3.0),\n",
      "(to allow more performant data types, such as the Arrow string type, and better interoperability with other libraries)\n",
      "but was not found to be installed on your system.\n",
      "If this would cause problems for you,\n",
      "please provide us feedback at https://github.com/pandas-dev/pandas/issues/54466\n",
      "        \n",
      "  import pandas as pd\n"
     ]
    }
   ],
   "source": [
    "import numpy as np\n",
    "import pandas as pd\n"
   ]
  },
  {
   "cell_type": "code",
   "execution_count": 2,
   "metadata": {},
   "outputs": [],
   "source": [
    "df = pd.read_csv(\"Virtual_Reality_in_Education_Impact.csv\")"
   ]
  },
  {
   "cell_type": "code",
   "execution_count": 3,
   "metadata": {},
   "outputs": [],
   "source": [
    "df_array = np.array(df)\n",
    "df_1D = np.array(df.iloc[0])\n",
    "df_2D = np.array(df.iloc[0:3])\n",
    "df_3D = np.array(df.iloc[0:3,4])"
   ]
  },
  {
   "cell_type": "code",
   "execution_count": 4,
   "metadata": {},
   "outputs": [
    {
     "data": {
      "text/html": [
       "<div>\n",
       "<style scoped>\n",
       "    .dataframe tbody tr th:only-of-type {\n",
       "        vertical-align: middle;\n",
       "    }\n",
       "\n",
       "    .dataframe tbody tr th {\n",
       "        vertical-align: top;\n",
       "    }\n",
       "\n",
       "    .dataframe thead th {\n",
       "        text-align: right;\n",
       "    }\n",
       "</style>\n",
       "<table border=\"1\" class=\"dataframe\">\n",
       "  <thead>\n",
       "    <tr style=\"text-align: right;\">\n",
       "      <th></th>\n",
       "      <th>Student_ID</th>\n",
       "      <th>Age</th>\n",
       "      <th>Gender</th>\n",
       "      <th>Grade_Level</th>\n",
       "      <th>Field_of_Study</th>\n",
       "      <th>Usage_of_VR_in_Education</th>\n",
       "      <th>Hours_of_VR_Usage_Per_Week</th>\n",
       "      <th>Engagement_Level</th>\n",
       "      <th>Improvement_in_Learning_Outcomes</th>\n",
       "      <th>Subject</th>\n",
       "      <th>Instructor_VR_Proficiency</th>\n",
       "      <th>Perceived_Effectiveness_of_VR</th>\n",
       "      <th>Access_to_VR_Equipment</th>\n",
       "      <th>Impact_on_Creativity</th>\n",
       "      <th>Stress_Level_with_VR_Usage</th>\n",
       "      <th>Collaboration_with_Peers_via_VR</th>\n",
       "      <th>Feedback_from_Educators_on_VR</th>\n",
       "      <th>Interest_in_Continuing_VR_Based_Learning</th>\n",
       "      <th>Region</th>\n",
       "      <th>School_Support_for_VR_in_Curriculum</th>\n",
       "    </tr>\n",
       "  </thead>\n",
       "  <tbody>\n",
       "    <tr>\n",
       "      <th>1</th>\n",
       "      <td>STUD0002</td>\n",
       "      <td>16</td>\n",
       "      <td>Non-binary</td>\n",
       "      <td>Undergraduate</td>\n",
       "      <td>Medicine</td>\n",
       "      <td>No</td>\n",
       "      <td>6</td>\n",
       "      <td>1</td>\n",
       "      <td>Yes</td>\n",
       "      <td>Math</td>\n",
       "      <td>Beginner</td>\n",
       "      <td>2</td>\n",
       "      <td>Yes</td>\n",
       "      <td>3</td>\n",
       "      <td>Low</td>\n",
       "      <td>Yes</td>\n",
       "      <td>Positive</td>\n",
       "      <td>No</td>\n",
       "      <td>Oceania</td>\n",
       "      <td>No</td>\n",
       "    </tr>\n",
       "    <tr>\n",
       "      <th>2</th>\n",
       "      <td>STUD0003</td>\n",
       "      <td>15</td>\n",
       "      <td>Prefer not to say</td>\n",
       "      <td>High School</td>\n",
       "      <td>Science</td>\n",
       "      <td>No</td>\n",
       "      <td>4</td>\n",
       "      <td>5</td>\n",
       "      <td>Yes</td>\n",
       "      <td>Art</td>\n",
       "      <td>Advanced</td>\n",
       "      <td>5</td>\n",
       "      <td>Yes</td>\n",
       "      <td>2</td>\n",
       "      <td>Low</td>\n",
       "      <td>Yes</td>\n",
       "      <td>Neutral</td>\n",
       "      <td>Yes</td>\n",
       "      <td>Oceania</td>\n",
       "      <td>No</td>\n",
       "    </tr>\n",
       "  </tbody>\n",
       "</table>\n",
       "</div>"
      ],
      "text/plain": [
       "  Student_ID  Age             Gender    Grade_Level Field_of_Study  \\\n",
       "1   STUD0002   16         Non-binary  Undergraduate       Medicine   \n",
       "2   STUD0003   15  Prefer not to say    High School        Science   \n",
       "\n",
       "  Usage_of_VR_in_Education  Hours_of_VR_Usage_Per_Week  Engagement_Level  \\\n",
       "1                       No                           6                 1   \n",
       "2                       No                           4                 5   \n",
       "\n",
       "  Improvement_in_Learning_Outcomes Subject Instructor_VR_Proficiency  \\\n",
       "1                              Yes    Math                  Beginner   \n",
       "2                              Yes     Art                  Advanced   \n",
       "\n",
       "   Perceived_Effectiveness_of_VR Access_to_VR_Equipment  Impact_on_Creativity  \\\n",
       "1                              2                    Yes                     3   \n",
       "2                              5                    Yes                     2   \n",
       "\n",
       "  Stress_Level_with_VR_Usage Collaboration_with_Peers_via_VR  \\\n",
       "1                        Low                             Yes   \n",
       "2                        Low                             Yes   \n",
       "\n",
       "  Feedback_from_Educators_on_VR Interest_in_Continuing_VR_Based_Learning  \\\n",
       "1                      Positive                                       No   \n",
       "2                       Neutral                                      Yes   \n",
       "\n",
       "    Region School_Support_for_VR_in_Curriculum  \n",
       "1  Oceania                                  No  \n",
       "2  Oceania                                  No  "
      ]
     },
     "execution_count": 4,
     "metadata": {},
     "output_type": "execute_result"
    }
   ],
   "source": [
    "df1 = pd.DataFrame( df.iloc[0:3],range(1,3), columns=df.columns)\n",
    "df1"
   ]
  }
 ],
 "metadata": {
  "kernelspec": {
   "display_name": "Python 3",
   "language": "python",
   "name": "python3"
  },
  "language_info": {
   "codemirror_mode": {
    "name": "ipython",
    "version": 3
   },
   "file_extension": ".py",
   "mimetype": "text/x-python",
   "name": "python",
   "nbconvert_exporter": "python",
   "pygments_lexer": "ipython3",
   "version": "3.12.7"
  }
 },
 "nbformat": 4,
 "nbformat_minor": 2
}
