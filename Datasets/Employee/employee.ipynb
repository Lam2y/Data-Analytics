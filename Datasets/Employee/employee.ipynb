{
 "cells": [
  {
   "cell_type": "code",
   "execution_count": 2,
   "metadata": {},
   "outputs": [
    {
     "name": "stderr",
     "output_type": "stream",
     "text": [
      "C:\\Users\\USER\\AppData\\Local\\Temp\\ipykernel_10544\\1662815981.py:2: DeprecationWarning: \n",
      "Pyarrow will become a required dependency of pandas in the next major release of pandas (pandas 3.0),\n",
      "(to allow more performant data types, such as the Arrow string type, and better interoperability with other libraries)\n",
      "but was not found to be installed on your system.\n",
      "If this would cause problems for you,\n",
      "please provide us feedback at https://github.com/pandas-dev/pandas/issues/54466\n",
      "        \n",
      "  import pandas as pd\n"
     ]
    }
   ],
   "source": [
    "import numpy as np\n",
    "import pandas as pd"
   ]
  },
  {
   "cell_type": "code",
   "execution_count": 3,
   "metadata": {},
   "outputs": [],
   "source": [
    "df=pd.read_csv('employee_survey.csv')"
   ]
  },
  {
   "cell_type": "code",
   "execution_count": 4,
   "metadata": {},
   "outputs": [
    {
     "data": {
      "text/plain": [
       "EmpID                    0\n",
       "Gender                   0\n",
       "Age                      0\n",
       "MaritalStatus            0\n",
       "JobLevel                 0\n",
       "Experience               0\n",
       "Dept                     0\n",
       "EmpType                  0\n",
       "WLB                      0\n",
       "WorkEnv                  0\n",
       "PhysicalActivityHours    0\n",
       "Workload                 0\n",
       "Stress                   0\n",
       "SleepHours               0\n",
       "CommuteMode              0\n",
       "CommuteDistance          0\n",
       "NumCompanies             0\n",
       "TeamSize                 0\n",
       "NumReports               0\n",
       "EduLevel                 0\n",
       "haveOT                   0\n",
       "TrainingHoursPerYear     0\n",
       "JobSatisfaction          0\n",
       "dtype: int64"
      ]
     },
     "execution_count": 4,
     "metadata": {},
     "output_type": "execute_result"
    }
   ],
   "source": [
    "df.isna().sum()"
   ]
  },
  {
   "cell_type": "code",
   "execution_count": 5,
   "metadata": {},
   "outputs": [],
   "source": [
    "df_array = np.array(df)\n",
    "df_1D = np.array(df.iloc[0])\n",
    "df_2D = np.array(df.iloc[0:3])\n",
    "df_3D = np.array(df.iloc[0:3,4])"
   ]
  }
 ],
 "metadata": {
  "kernelspec": {
   "display_name": "Python 3",
   "language": "python",
   "name": "python3"
  },
  "language_info": {
   "codemirror_mode": {
    "name": "ipython",
    "version": 3
   },
   "file_extension": ".py",
   "mimetype": "text/x-python",
   "name": "python",
   "nbconvert_exporter": "python",
   "pygments_lexer": "ipython3",
   "version": "3.12.7"
  }
 },
 "nbformat": 4,
 "nbformat_minor": 2
}
