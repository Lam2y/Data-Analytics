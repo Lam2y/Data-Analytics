{
 "cells": [
  {
   "cell_type": "code",
   "execution_count": 1,
   "metadata": {},
   "outputs": [
    {
     "name": "stderr",
     "output_type": "stream",
     "text": [
      "C:\\Users\\USER\\AppData\\Local\\Temp\\ipykernel_2640\\1662815981.py:2: DeprecationWarning: \n",
      "Pyarrow will become a required dependency of pandas in the next major release of pandas (pandas 3.0),\n",
      "(to allow more performant data types, such as the Arrow string type, and better interoperability with other libraries)\n",
      "but was not found to be installed on your system.\n",
      "If this would cause problems for you,\n",
      "please provide us feedback at https://github.com/pandas-dev/pandas/issues/54466\n",
      "        \n",
      "  import pandas as pd\n"
     ]
    }
   ],
   "source": [
    "import numpy as np\n",
    "import pandas as pd"
   ]
  },
  {
   "cell_type": "code",
   "execution_count": 2,
   "metadata": {},
   "outputs": [],
   "source": [
    "df=pd.read_csv('employee_survey.csv')"
   ]
  },
  {
   "cell_type": "code",
   "execution_count": 3,
   "metadata": {},
   "outputs": [
    {
     "data": {
      "text/plain": [
       "EmpID                    0\n",
       "Gender                   0\n",
       "Age                      0\n",
       "MaritalStatus            0\n",
       "JobLevel                 0\n",
       "Experience               0\n",
       "Dept                     0\n",
       "EmpType                  0\n",
       "WLB                      0\n",
       "WorkEnv                  0\n",
       "PhysicalActivityHours    0\n",
       "Workload                 0\n",
       "Stress                   0\n",
       "SleepHours               0\n",
       "CommuteMode              0\n",
       "CommuteDistance          0\n",
       "NumCompanies             0\n",
       "TeamSize                 0\n",
       "NumReports               0\n",
       "EduLevel                 0\n",
       "haveOT                   0\n",
       "TrainingHoursPerYear     0\n",
       "JobSatisfaction          0\n",
       "dtype: int64"
      ]
     },
     "execution_count": 3,
     "metadata": {},
     "output_type": "execute_result"
    }
   ],
   "source": [
    "df.isna().sum()"
   ]
  },
  {
   "cell_type": "code",
   "execution_count": 4,
   "metadata": {},
   "outputs": [],
   "source": [
    "df_array = np.array(df)\n",
    "df_1D = np.array(df.iloc[0])\n",
    "df_2D = np.array(df.iloc[0:3])\n",
    "df_3D = np.array(df.iloc[0:3,4])"
   ]
  },
  {
   "cell_type": "code",
   "execution_count": 5,
   "metadata": {},
   "outputs": [
    {
     "data": {
      "text/html": [
       "<div>\n",
       "<style scoped>\n",
       "    .dataframe tbody tr th:only-of-type {\n",
       "        vertical-align: middle;\n",
       "    }\n",
       "\n",
       "    .dataframe tbody tr th {\n",
       "        vertical-align: top;\n",
       "    }\n",
       "\n",
       "    .dataframe thead th {\n",
       "        text-align: right;\n",
       "    }\n",
       "</style>\n",
       "<table border=\"1\" class=\"dataframe\">\n",
       "  <thead>\n",
       "    <tr style=\"text-align: right;\">\n",
       "      <th></th>\n",
       "      <th>EmpID</th>\n",
       "      <th>Gender</th>\n",
       "      <th>Age</th>\n",
       "      <th>MaritalStatus</th>\n",
       "      <th>JobLevel</th>\n",
       "      <th>Experience</th>\n",
       "      <th>Dept</th>\n",
       "      <th>EmpType</th>\n",
       "      <th>WLB</th>\n",
       "      <th>WorkEnv</th>\n",
       "      <th>...</th>\n",
       "      <th>SleepHours</th>\n",
       "      <th>CommuteMode</th>\n",
       "      <th>CommuteDistance</th>\n",
       "      <th>NumCompanies</th>\n",
       "      <th>TeamSize</th>\n",
       "      <th>NumReports</th>\n",
       "      <th>EduLevel</th>\n",
       "      <th>haveOT</th>\n",
       "      <th>TrainingHoursPerYear</th>\n",
       "      <th>JobSatisfaction</th>\n",
       "    </tr>\n",
       "  </thead>\n",
       "  <tbody>\n",
       "    <tr>\n",
       "      <th>1</th>\n",
       "      <td>11</td>\n",
       "      <td>Female</td>\n",
       "      <td>34</td>\n",
       "      <td>Married</td>\n",
       "      <td>Mid</td>\n",
       "      <td>12</td>\n",
       "      <td>Finance</td>\n",
       "      <td>Full-Time</td>\n",
       "      <td>1</td>\n",
       "      <td>1</td>\n",
       "      <td>...</td>\n",
       "      <td>7.9</td>\n",
       "      <td>Car</td>\n",
       "      <td>15</td>\n",
       "      <td>4</td>\n",
       "      <td>11</td>\n",
       "      <td>0</td>\n",
       "      <td>Bachelor</td>\n",
       "      <td>False</td>\n",
       "      <td>36.0</td>\n",
       "      <td>5</td>\n",
       "    </tr>\n",
       "    <tr>\n",
       "      <th>2</th>\n",
       "      <td>33</td>\n",
       "      <td>Female</td>\n",
       "      <td>23</td>\n",
       "      <td>Single</td>\n",
       "      <td>Intern/Fresher</td>\n",
       "      <td>1</td>\n",
       "      <td>Marketing</td>\n",
       "      <td>Full-Time</td>\n",
       "      <td>2</td>\n",
       "      <td>4</td>\n",
       "      <td>...</td>\n",
       "      <td>6.5</td>\n",
       "      <td>Motorbike</td>\n",
       "      <td>17</td>\n",
       "      <td>0</td>\n",
       "      <td>30</td>\n",
       "      <td>0</td>\n",
       "      <td>Bachelor</td>\n",
       "      <td>True</td>\n",
       "      <td>10.5</td>\n",
       "      <td>5</td>\n",
       "    </tr>\n",
       "  </tbody>\n",
       "</table>\n",
       "<p>2 rows × 23 columns</p>\n",
       "</div>"
      ],
      "text/plain": [
       "   EmpID  Gender  Age MaritalStatus        JobLevel  Experience       Dept  \\\n",
       "1     11  Female   34       Married             Mid          12    Finance   \n",
       "2     33  Female   23        Single  Intern/Fresher           1  Marketing   \n",
       "\n",
       "     EmpType  WLB  WorkEnv  ...  SleepHours  CommuteMode  CommuteDistance  \\\n",
       "1  Full-Time    1        1  ...         7.9          Car               15   \n",
       "2  Full-Time    2        4  ...         6.5    Motorbike               17   \n",
       "\n",
       "   NumCompanies TeamSize  NumReports  EduLevel  haveOT  TrainingHoursPerYear  \\\n",
       "1             4       11           0  Bachelor   False                  36.0   \n",
       "2             0       30           0  Bachelor    True                  10.5   \n",
       "\n",
       "  JobSatisfaction  \n",
       "1               5  \n",
       "2               5  \n",
       "\n",
       "[2 rows x 23 columns]"
      ]
     },
     "execution_count": 5,
     "metadata": {},
     "output_type": "execute_result"
    }
   ],
   "source": [
    "df1 = pd.DataFrame( df.iloc[0:3],range(1,3), columns=df.columns)\n",
    "df1"
   ]
  }
 ],
 "metadata": {
  "kernelspec": {
   "display_name": "Python 3",
   "language": "python",
   "name": "python3"
  },
  "language_info": {
   "codemirror_mode": {
    "name": "ipython",
    "version": 3
   },
   "file_extension": ".py",
   "mimetype": "text/x-python",
   "name": "python",
   "nbconvert_exporter": "python",
   "pygments_lexer": "ipython3",
   "version": "3.12.7"
  }
 },
 "nbformat": 4,
 "nbformat_minor": 2
}
