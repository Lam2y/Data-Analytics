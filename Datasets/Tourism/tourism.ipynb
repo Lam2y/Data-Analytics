{
 "cells": [
  {
   "cell_type": "code",
   "execution_count": 1,
   "metadata": {},
   "outputs": [
    {
     "name": "stderr",
     "output_type": "stream",
     "text": [
      "C:\\Users\\USER\\AppData\\Local\\Temp\\ipykernel_16288\\1662815981.py:2: DeprecationWarning: \n",
      "Pyarrow will become a required dependency of pandas in the next major release of pandas (pandas 3.0),\n",
      "(to allow more performant data types, such as the Arrow string type, and better interoperability with other libraries)\n",
      "but was not found to be installed on your system.\n",
      "If this would cause problems for you,\n",
      "please provide us feedback at https://github.com/pandas-dev/pandas/issues/54466\n",
      "        \n",
      "  import pandas as pd\n"
     ]
    }
   ],
   "source": [
    "import numpy as np\n",
    "import pandas as pd"
   ]
  },
  {
   "cell_type": "code",
   "execution_count": 3,
   "metadata": {},
   "outputs": [
    {
     "data": {
      "text/html": [
       "<div>\n",
       "<style scoped>\n",
       "    .dataframe tbody tr th:only-of-type {\n",
       "        vertical-align: middle;\n",
       "    }\n",
       "\n",
       "    .dataframe tbody tr th {\n",
       "        vertical-align: top;\n",
       "    }\n",
       "\n",
       "    .dataframe thead th {\n",
       "        text-align: right;\n",
       "    }\n",
       "</style>\n",
       "<table border=\"1\" class=\"dataframe\">\n",
       "  <thead>\n",
       "    <tr style=\"text-align: right;\">\n",
       "      <th></th>\n",
       "      <th>Location</th>\n",
       "      <th>Country</th>\n",
       "      <th>Category</th>\n",
       "      <th>Visitors</th>\n",
       "      <th>Rating</th>\n",
       "      <th>Revenue</th>\n",
       "      <th>Accommodation_Available</th>\n",
       "    </tr>\n",
       "  </thead>\n",
       "  <tbody>\n",
       "    <tr>\n",
       "      <th>0</th>\n",
       "      <td>kuBZRkVsAR</td>\n",
       "      <td>India</td>\n",
       "      <td>Nature</td>\n",
       "      <td>948853</td>\n",
       "      <td>1.32</td>\n",
       "      <td>84388.38</td>\n",
       "      <td>Yes</td>\n",
       "    </tr>\n",
       "    <tr>\n",
       "      <th>1</th>\n",
       "      <td>aHKUXhjzTo</td>\n",
       "      <td>USA</td>\n",
       "      <td>Historical</td>\n",
       "      <td>813627</td>\n",
       "      <td>2.01</td>\n",
       "      <td>802625.60</td>\n",
       "      <td>No</td>\n",
       "    </tr>\n",
       "    <tr>\n",
       "      <th>2</th>\n",
       "      <td>dlrdYtJFTA</td>\n",
       "      <td>Brazil</td>\n",
       "      <td>Nature</td>\n",
       "      <td>508673</td>\n",
       "      <td>1.42</td>\n",
       "      <td>338777.11</td>\n",
       "      <td>Yes</td>\n",
       "    </tr>\n",
       "    <tr>\n",
       "      <th>3</th>\n",
       "      <td>DxmlzdGkHK</td>\n",
       "      <td>Brazil</td>\n",
       "      <td>Historical</td>\n",
       "      <td>623329</td>\n",
       "      <td>1.09</td>\n",
       "      <td>295183.60</td>\n",
       "      <td>Yes</td>\n",
       "    </tr>\n",
       "    <tr>\n",
       "      <th>4</th>\n",
       "      <td>WJCCQlepnz</td>\n",
       "      <td>France</td>\n",
       "      <td>Cultural</td>\n",
       "      <td>124867</td>\n",
       "      <td>1.43</td>\n",
       "      <td>547893.24</td>\n",
       "      <td>No</td>\n",
       "    </tr>\n",
       "  </tbody>\n",
       "</table>\n",
       "</div>"
      ],
      "text/plain": [
       "     Location Country    Category  Visitors  Rating    Revenue  \\\n",
       "0  kuBZRkVsAR   India      Nature    948853    1.32   84388.38   \n",
       "1  aHKUXhjzTo     USA  Historical    813627    2.01  802625.60   \n",
       "2  dlrdYtJFTA  Brazil      Nature    508673    1.42  338777.11   \n",
       "3  DxmlzdGkHK  Brazil  Historical    623329    1.09  295183.60   \n",
       "4  WJCCQlepnz  France    Cultural    124867    1.43  547893.24   \n",
       "\n",
       "  Accommodation_Available  \n",
       "0                     Yes  \n",
       "1                      No  \n",
       "2                     Yes  \n",
       "3                     Yes  \n",
       "4                      No  "
      ]
     },
     "execution_count": 3,
     "metadata": {},
     "output_type": "execute_result"
    }
   ],
   "source": [
    "df=pd.read_csv('tourism_dataset.csv')\n",
    "df.head()"
   ]
  },
  {
   "cell_type": "code",
   "execution_count": 4,
   "metadata": {},
   "outputs": [
    {
     "data": {
      "text/plain": [
       "Location                   0\n",
       "Country                    0\n",
       "Category                   0\n",
       "Visitors                   0\n",
       "Rating                     0\n",
       "Revenue                    0\n",
       "Accommodation_Available    0\n",
       "dtype: int64"
      ]
     },
     "execution_count": 4,
     "metadata": {},
     "output_type": "execute_result"
    }
   ],
   "source": [
    "df.isna().sum()"
   ]
  }
 ],
 "metadata": {
  "kernelspec": {
   "display_name": "Python 3",
   "language": "python",
   "name": "python3"
  },
  "language_info": {
   "codemirror_mode": {
    "name": "ipython",
    "version": 3
   },
   "file_extension": ".py",
   "mimetype": "text/x-python",
   "name": "python",
   "nbconvert_exporter": "python",
   "pygments_lexer": "ipython3",
   "version": "3.12.5"
  }
 },
 "nbformat": 4,
 "nbformat_minor": 2
}
