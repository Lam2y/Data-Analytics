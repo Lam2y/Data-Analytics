{
 "cells": [
  {
   "cell_type": "code",
   "execution_count": 24,
   "metadata": {},
   "outputs": [],
   "source": [
    "import pandas as pd\n",
    "import numpy as np"
   ]
  },
  {
   "cell_type": "code",
   "execution_count": 25,
   "metadata": {},
   "outputs": [],
   "source": [
    "df1=pd.read_csv('customer.csv')\n",
    "df2=pd.read_csv('loan_count_by_year.csv')\n",
    "df3=pd.read_csv('loan_purposes.csv')\n",
    "df4=pd.read_csv('loan_with_region.csv')\n",
    "df5=pd.read_csv('loan.csv')\n",
    "df6=pd.read_csv('state_region.csv')"
   ]
  },
  {
   "cell_type": "code",
   "execution_count": 26,
   "metadata": {},
   "outputs": [
    {
     "data": {
      "text/plain": [
       "Index(['customer_id', 'emp_title', 'emp_length', 'home_ownership',\n",
       "       'annual_inc', 'annual_inc_joint', 'verification_status', 'zip_code',\n",
       "       'addr_state', 'avg_cur_bal', 'Tot_cur_bal'],\n",
       "      dtype='object')"
      ]
     },
     "execution_count": 26,
     "metadata": {},
     "output_type": "execute_result"
    }
   ],
   "source": [
    "df1.columns"
   ]
  },
  {
   "cell_type": "code",
   "execution_count": 27,
   "metadata": {},
   "outputs": [
    {
     "data": {
      "text/plain": [
       "Index(['loan_id', 'loan_amount', 'region'], dtype='object')"
      ]
     },
     "execution_count": 27,
     "metadata": {},
     "output_type": "execute_result"
    }
   ],
   "source": [
    "df4.columns"
   ]
  },
  {
   "cell_type": "code",
   "execution_count": 28,
   "metadata": {},
   "outputs": [
    {
     "data": {
      "text/plain": [
       "Index(['loan_id', 'customer_id', 'loan_status', 'loan_amount', 'state',\n",
       "       'funded_amount', 'term', 'int_rate', 'installment', 'grade', 'issue_d',\n",
       "       'issue_date', 'issue_year', 'pymnt_plan', 'type', 'purpose',\n",
       "       'description', 'notes'],\n",
       "      dtype='object')"
      ]
     },
     "execution_count": 28,
     "metadata": {},
     "output_type": "execute_result"
    }
   ],
   "source": [
    "df5.columns"
   ]
  },
  {
   "cell_type": "code",
   "execution_count": 29,
   "metadata": {},
   "outputs": [],
   "source": [
    "combined_data=pd.merge(df1,df5[['loan_id', 'customer_id', 'loan_status', 'loan_amount', 'state',\n",
    "       'funded_amount', 'term', 'int_rate', 'installment', 'grade', 'issue_d',\n",
    "       'issue_date', 'issue_year', 'pymnt_plan', 'type', 'purpose',\n",
    "       'description', 'notes']],on='customer_id')"
   ]
  },
  {
   "cell_type": "code",
   "execution_count": 30,
   "metadata": {},
   "outputs": [],
   "source": [
    "combined_data=pd.merge(combined_data,df4[['loan_id', 'region']],on='loan_id')"
   ]
  },
  {
   "cell_type": "code",
   "execution_count": 31,
   "metadata": {},
   "outputs": [
    {
     "data": {
      "text/plain": [
       "Index(['customer_id', 'emp_title', 'emp_length', 'home_ownership',\n",
       "       'annual_inc', 'annual_inc_joint', 'verification_status', 'zip_code',\n",
       "       'addr_state', 'avg_cur_bal', 'Tot_cur_bal', 'loan_id', 'loan_status',\n",
       "       'loan_amount', 'state', 'funded_amount', 'term', 'int_rate',\n",
       "       'installment', 'grade', 'issue_d', 'issue_date', 'issue_year',\n",
       "       'pymnt_plan', 'type', 'purpose', 'description', 'notes', 'region'],\n",
       "      dtype='object')"
      ]
     },
     "execution_count": 31,
     "metadata": {},
     "output_type": "execute_result"
    }
   ],
   "source": [
    "combined_data.columns"
   ]
  },
  {
   "cell_type": "code",
   "execution_count": 32,
   "metadata": {},
   "outputs": [
    {
     "data": {
      "text/plain": [
       "Index(['issue_year', 'loan_count'], dtype='object')"
      ]
     },
     "execution_count": 32,
     "metadata": {},
     "output_type": "execute_result"
    }
   ],
   "source": [
    "df2.columns"
   ]
  },
  {
   "cell_type": "code",
   "execution_count": 33,
   "metadata": {},
   "outputs": [
    {
     "data": {
      "text/plain": [
       "Index(['state', 'subregion', 'region'], dtype='object')"
      ]
     },
     "execution_count": 33,
     "metadata": {},
     "output_type": "execute_result"
    }
   ],
   "source": [
    "df6.columns"
   ]
  },
  {
   "cell_type": "code",
   "execution_count": 34,
   "metadata": {},
   "outputs": [],
   "source": [
    "combined_data=pd.merge(combined_data,df6[['state', 'subregion']],on='state')"
   ]
  },
  {
   "cell_type": "code",
   "execution_count": 35,
   "metadata": {},
   "outputs": [
    {
     "data": {
      "text/plain": [
       "0         New England\n",
       "1         New England\n",
       "2         New England\n",
       "3         New England\n",
       "4         New England\n",
       "             ...     \n",
       "270294        Pacific\n",
       "270295        Pacific\n",
       "270296        Pacific\n",
       "270297        Pacific\n",
       "270298        Pacific\n",
       "Name: subregion, Length: 270299, dtype: object"
      ]
     },
     "execution_count": 35,
     "metadata": {},
     "output_type": "execute_result"
    }
   ],
   "source": [
    "combined_data.subregion"
   ]
  },
  {
   "cell_type": "code",
   "execution_count": 36,
   "metadata": {},
   "outputs": [],
   "source": [
    "missing_cols = combined_data.columns[combined_data.isna().sum() != 0]"
   ]
  },
  {
   "cell_type": "code",
   "execution_count": 37,
   "metadata": {},
   "outputs": [
    {
     "data": {
      "text/plain": [
       "Index(['emp_title', 'emp_length', 'annual_inc_joint', 'description'], dtype='object')"
      ]
     },
     "execution_count": 37,
     "metadata": {},
     "output_type": "execute_result"
    }
   ],
   "source": [
    "missing_cols"
   ]
  },
  {
   "cell_type": "code",
   "execution_count": 38,
   "metadata": {},
   "outputs": [
    {
     "data": {
      "text/html": [
       "<div>\n",
       "<style scoped>\n",
       "    .dataframe tbody tr th:only-of-type {\n",
       "        vertical-align: middle;\n",
       "    }\n",
       "\n",
       "    .dataframe tbody tr th {\n",
       "        vertical-align: top;\n",
       "    }\n",
       "\n",
       "    .dataframe thead th {\n",
       "        text-align: right;\n",
       "    }\n",
       "</style>\n",
       "<table border=\"1\" class=\"dataframe\">\n",
       "  <thead>\n",
       "    <tr style=\"text-align: right;\">\n",
       "      <th></th>\n",
       "      <th>customer_id</th>\n",
       "      <th>emp_title</th>\n",
       "      <th>emp_length</th>\n",
       "      <th>home_ownership</th>\n",
       "      <th>annual_inc</th>\n",
       "      <th>annual_inc_joint</th>\n",
       "      <th>verification_status</th>\n",
       "      <th>zip_code</th>\n",
       "      <th>addr_state</th>\n",
       "      <th>avg_cur_bal</th>\n",
       "      <th>...</th>\n",
       "      <th>issue_d</th>\n",
       "      <th>issue_date</th>\n",
       "      <th>issue_year</th>\n",
       "      <th>pymnt_plan</th>\n",
       "      <th>type</th>\n",
       "      <th>purpose</th>\n",
       "      <th>description</th>\n",
       "      <th>notes</th>\n",
       "      <th>region</th>\n",
       "      <th>subregion</th>\n",
       "    </tr>\n",
       "  </thead>\n",
       "  <tbody>\n",
       "    <tr>\n",
       "      <th>229</th>\n",
       "      <td>b'\\xa5G_`m\\t\\x83\\xb9b\"\\xb4C\\xaa\\xb8@x\\x03\\x99=...</td>\n",
       "      <td>NaN</td>\n",
       "      <td>NaN</td>\n",
       "      <td>RENT</td>\n",
       "      <td>21048.0</td>\n",
       "      <td>NaN</td>\n",
       "      <td>Verified</td>\n",
       "      <td>021xx</td>\n",
       "      <td>MA</td>\n",
       "      <td>850.0</td>\n",
       "      <td>...</td>\n",
       "      <td>Jun-16</td>\n",
       "      <td>June 2016</td>\n",
       "      <td>2016.0</td>\n",
       "      <td>False</td>\n",
       "      <td>INDIVIDUAL</td>\n",
       "      <td>debt_consolidation</td>\n",
       "      <td>NaN</td>\n",
       "      <td>desc</td>\n",
       "      <td>Northeast</td>\n",
       "      <td>New England</td>\n",
       "    </tr>\n",
       "    <tr>\n",
       "      <th>259</th>\n",
       "      <td>b'\\xe6\\xa7!k\\xc8\\x9f\\tG\\xd8[\\xf3\\xdeB\\x82\\x95A...</td>\n",
       "      <td>NaN</td>\n",
       "      <td>NaN</td>\n",
       "      <td>RENT</td>\n",
       "      <td>37000.0</td>\n",
       "      <td>NaN</td>\n",
       "      <td>Source Verified</td>\n",
       "      <td>023xx</td>\n",
       "      <td>MA</td>\n",
       "      <td>4050.0</td>\n",
       "      <td>...</td>\n",
       "      <td>Feb-16</td>\n",
       "      <td>February 2016</td>\n",
       "      <td>2016.0</td>\n",
       "      <td>False</td>\n",
       "      <td>INDIVIDUAL</td>\n",
       "      <td>credit_card</td>\n",
       "      <td>NaN</td>\n",
       "      <td>desc</td>\n",
       "      <td>Northeast</td>\n",
       "      <td>New England</td>\n",
       "    </tr>\n",
       "    <tr>\n",
       "      <th>291</th>\n",
       "      <td>b'\\x93`W9G\\xb5(~\\x11\\x04\\x11\\xa1\\x01\\x012R\\xf3...</td>\n",
       "      <td>NaN</td>\n",
       "      <td>NaN</td>\n",
       "      <td>MORTGAGE</td>\n",
       "      <td>39000.0</td>\n",
       "      <td>NaN</td>\n",
       "      <td>Verified</td>\n",
       "      <td>026xx</td>\n",
       "      <td>MA</td>\n",
       "      <td>37220.0</td>\n",
       "      <td>...</td>\n",
       "      <td>Jun-16</td>\n",
       "      <td>June 2016</td>\n",
       "      <td>2016.0</td>\n",
       "      <td>False</td>\n",
       "      <td>INDIVIDUAL</td>\n",
       "      <td>debt_consolidation</td>\n",
       "      <td>NaN</td>\n",
       "      <td>desc</td>\n",
       "      <td>Northeast</td>\n",
       "      <td>New England</td>\n",
       "    </tr>\n",
       "    <tr>\n",
       "      <th>323</th>\n",
       "      <td>b'\\xa5\\xec\\xe8\\xd9\\xdd\\xb5\\x8fS\\xaa\\x16\\x18\\x0...</td>\n",
       "      <td>NaN</td>\n",
       "      <td>NaN</td>\n",
       "      <td>MORTGAGE</td>\n",
       "      <td>78430.0</td>\n",
       "      <td>NaN</td>\n",
       "      <td>Verified</td>\n",
       "      <td>028xx</td>\n",
       "      <td>RI</td>\n",
       "      <td>4596.0</td>\n",
       "      <td>...</td>\n",
       "      <td>Jun-16</td>\n",
       "      <td>June 2016</td>\n",
       "      <td>2016.0</td>\n",
       "      <td>False</td>\n",
       "      <td>INDIVIDUAL</td>\n",
       "      <td>debt_consolidation</td>\n",
       "      <td>NaN</td>\n",
       "      <td>desc</td>\n",
       "      <td>Northeast</td>\n",
       "      <td>New England</td>\n",
       "    </tr>\n",
       "    <tr>\n",
       "      <th>461</th>\n",
       "      <td>b'\\xdb\\xe1\\x9b\\x01\\xe6\\x06\\x9d\\x9cxz_M\\xd5-\\x8...</td>\n",
       "      <td>NaN</td>\n",
       "      <td>NaN</td>\n",
       "      <td>RENT</td>\n",
       "      <td>40106.0</td>\n",
       "      <td>NaN</td>\n",
       "      <td>Verified</td>\n",
       "      <td>041xx</td>\n",
       "      <td>ME</td>\n",
       "      <td>1883.0</td>\n",
       "      <td>...</td>\n",
       "      <td>Mar-16</td>\n",
       "      <td>March 2016</td>\n",
       "      <td>2016.0</td>\n",
       "      <td>False</td>\n",
       "      <td>INDIVIDUAL</td>\n",
       "      <td>debt_consolidation</td>\n",
       "      <td>NaN</td>\n",
       "      <td>desc</td>\n",
       "      <td>Northeast</td>\n",
       "      <td>New England</td>\n",
       "    </tr>\n",
       "    <tr>\n",
       "      <th>...</th>\n",
       "      <td>...</td>\n",
       "      <td>...</td>\n",
       "      <td>...</td>\n",
       "      <td>...</td>\n",
       "      <td>...</td>\n",
       "      <td>...</td>\n",
       "      <td>...</td>\n",
       "      <td>...</td>\n",
       "      <td>...</td>\n",
       "      <td>...</td>\n",
       "      <td>...</td>\n",
       "      <td>...</td>\n",
       "      <td>...</td>\n",
       "      <td>...</td>\n",
       "      <td>...</td>\n",
       "      <td>...</td>\n",
       "      <td>...</td>\n",
       "      <td>...</td>\n",
       "      <td>...</td>\n",
       "      <td>...</td>\n",
       "      <td>...</td>\n",
       "    </tr>\n",
       "    <tr>\n",
       "      <th>269671</th>\n",
       "      <td>b'KG\\xaa\\xa1\\x16x\\n&amp;\\xe0V\\x08=G&gt;\\x18\\xfc\\xd6\\x...</td>\n",
       "      <td>Journeymen Clerk</td>\n",
       "      <td>10+ years</td>\n",
       "      <td>MORTGAGE</td>\n",
       "      <td>50000.0</td>\n",
       "      <td>NaN</td>\n",
       "      <td>Not Verified</td>\n",
       "      <td>986xx</td>\n",
       "      <td>WA</td>\n",
       "      <td>12067.0</td>\n",
       "      <td>...</td>\n",
       "      <td>Mar-16</td>\n",
       "      <td>March 2016</td>\n",
       "      <td>2016.0</td>\n",
       "      <td>False</td>\n",
       "      <td>INDIVIDUAL</td>\n",
       "      <td>debt_consolidation</td>\n",
       "      <td>NaN</td>\n",
       "      <td>desc</td>\n",
       "      <td>West</td>\n",
       "      <td>Pacific</td>\n",
       "    </tr>\n",
       "    <tr>\n",
       "      <th>269678</th>\n",
       "      <td>b'm\\xd7s\\x8f\\xcc\\x80\\x0c\\xbc \\x89\\xca\\x05\\x9b_...</td>\n",
       "      <td>Engineer</td>\n",
       "      <td>10+ years</td>\n",
       "      <td>MORTGAGE</td>\n",
       "      <td>100000.0</td>\n",
       "      <td>NaN</td>\n",
       "      <td>Verified</td>\n",
       "      <td>986xx</td>\n",
       "      <td>WA</td>\n",
       "      <td>21320.0</td>\n",
       "      <td>...</td>\n",
       "      <td>Jun-16</td>\n",
       "      <td>June 2016</td>\n",
       "      <td>2016.0</td>\n",
       "      <td>False</td>\n",
       "      <td>INDIVIDUAL</td>\n",
       "      <td>credit_card</td>\n",
       "      <td>NaN</td>\n",
       "      <td>desc</td>\n",
       "      <td>West</td>\n",
       "      <td>Pacific</td>\n",
       "    </tr>\n",
       "    <tr>\n",
       "      <th>270055</th>\n",
       "      <td>b'\\xea\\xc0\\x85\\xf9\\xb7\\xb3]E\\xf6\\xacJ\\xf8\\xd4\\...</td>\n",
       "      <td>Correctional Officer</td>\n",
       "      <td>10+ years</td>\n",
       "      <td>MORTGAGE</td>\n",
       "      <td>64000.0</td>\n",
       "      <td>NaN</td>\n",
       "      <td>Verified</td>\n",
       "      <td>993xx</td>\n",
       "      <td>WA</td>\n",
       "      <td>19456.0</td>\n",
       "      <td>...</td>\n",
       "      <td>Mar-16</td>\n",
       "      <td>March 2016</td>\n",
       "      <td>2016.0</td>\n",
       "      <td>False</td>\n",
       "      <td>INDIVIDUAL</td>\n",
       "      <td>debt_consolidation</td>\n",
       "      <td>NaN</td>\n",
       "      <td>desc</td>\n",
       "      <td>West</td>\n",
       "      <td>Pacific</td>\n",
       "    </tr>\n",
       "    <tr>\n",
       "      <th>270155</th>\n",
       "      <td>b'\\xa9\\xd0\\x1c\\xc7\\x06n@\\xcd+\\x0b\\xed\\x04\\x10\\...</td>\n",
       "      <td>Assistant Grocery Manger</td>\n",
       "      <td>10+ years</td>\n",
       "      <td>MORTGAGE</td>\n",
       "      <td>58000.0</td>\n",
       "      <td>NaN</td>\n",
       "      <td>Verified</td>\n",
       "      <td>995xx</td>\n",
       "      <td>AK</td>\n",
       "      <td>24531.0</td>\n",
       "      <td>...</td>\n",
       "      <td>Mar-16</td>\n",
       "      <td>March 2016</td>\n",
       "      <td>2016.0</td>\n",
       "      <td>False</td>\n",
       "      <td>INDIVIDUAL</td>\n",
       "      <td>credit_card</td>\n",
       "      <td>NaN</td>\n",
       "      <td>desc</td>\n",
       "      <td>West</td>\n",
       "      <td>Pacific</td>\n",
       "    </tr>\n",
       "    <tr>\n",
       "      <th>270296</th>\n",
       "      <td>b'nW\\xbb\\xdd{(\\xf4\\xed\\xa5G9\\x97Rq\\xd4vg\\xc7\\x...</td>\n",
       "      <td>Surface Equipment Operator</td>\n",
       "      <td>10+ years</td>\n",
       "      <td>MORTGAGE</td>\n",
       "      <td>80000.0</td>\n",
       "      <td>NaN</td>\n",
       "      <td>Not Verified</td>\n",
       "      <td>998xx</td>\n",
       "      <td>AK</td>\n",
       "      <td>92942.0</td>\n",
       "      <td>...</td>\n",
       "      <td>Mar-16</td>\n",
       "      <td>March 2016</td>\n",
       "      <td>2016.0</td>\n",
       "      <td>False</td>\n",
       "      <td>INDIVIDUAL</td>\n",
       "      <td>credit_card</td>\n",
       "      <td>NaN</td>\n",
       "      <td>desc</td>\n",
       "      <td>West</td>\n",
       "      <td>Pacific</td>\n",
       "    </tr>\n",
       "  </tbody>\n",
       "</table>\n",
       "<p>2343 rows × 30 columns</p>\n",
       "</div>"
      ],
      "text/plain": [
       "                                              customer_id  \\\n",
       "229     b'\\xa5G_`m\\t\\x83\\xb9b\"\\xb4C\\xaa\\xb8@x\\x03\\x99=...   \n",
       "259     b'\\xe6\\xa7!k\\xc8\\x9f\\tG\\xd8[\\xf3\\xdeB\\x82\\x95A...   \n",
       "291     b'\\x93`W9G\\xb5(~\\x11\\x04\\x11\\xa1\\x01\\x012R\\xf3...   \n",
       "323     b'\\xa5\\xec\\xe8\\xd9\\xdd\\xb5\\x8fS\\xaa\\x16\\x18\\x0...   \n",
       "461     b'\\xdb\\xe1\\x9b\\x01\\xe6\\x06\\x9d\\x9cxz_M\\xd5-\\x8...   \n",
       "...                                                   ...   \n",
       "269671  b'KG\\xaa\\xa1\\x16x\\n&\\xe0V\\x08=G>\\x18\\xfc\\xd6\\x...   \n",
       "269678  b'm\\xd7s\\x8f\\xcc\\x80\\x0c\\xbc \\x89\\xca\\x05\\x9b_...   \n",
       "270055  b'\\xea\\xc0\\x85\\xf9\\xb7\\xb3]E\\xf6\\xacJ\\xf8\\xd4\\...   \n",
       "270155  b'\\xa9\\xd0\\x1c\\xc7\\x06n@\\xcd+\\x0b\\xed\\x04\\x10\\...   \n",
       "270296  b'nW\\xbb\\xdd{(\\xf4\\xed\\xa5G9\\x97Rq\\xd4vg\\xc7\\x...   \n",
       "\n",
       "                         emp_title emp_length home_ownership  annual_inc  \\\n",
       "229                            NaN        NaN           RENT     21048.0   \n",
       "259                            NaN        NaN           RENT     37000.0   \n",
       "291                            NaN        NaN       MORTGAGE     39000.0   \n",
       "323                            NaN        NaN       MORTGAGE     78430.0   \n",
       "461                            NaN        NaN           RENT     40106.0   \n",
       "...                            ...        ...            ...         ...   \n",
       "269671            Journeymen Clerk  10+ years       MORTGAGE     50000.0   \n",
       "269678                    Engineer  10+ years       MORTGAGE    100000.0   \n",
       "270055       Correctional Officer   10+ years       MORTGAGE     64000.0   \n",
       "270155   Assistant Grocery Manger   10+ years       MORTGAGE     58000.0   \n",
       "270296  Surface Equipment Operator  10+ years       MORTGAGE     80000.0   \n",
       "\n",
       "        annual_inc_joint verification_status zip_code addr_state  avg_cur_bal  \\\n",
       "229                  NaN            Verified    021xx         MA        850.0   \n",
       "259                  NaN     Source Verified    023xx         MA       4050.0   \n",
       "291                  NaN            Verified    026xx         MA      37220.0   \n",
       "323                  NaN            Verified    028xx         RI       4596.0   \n",
       "461                  NaN            Verified    041xx         ME       1883.0   \n",
       "...                  ...                 ...      ...        ...          ...   \n",
       "269671               NaN        Not Verified    986xx         WA      12067.0   \n",
       "269678               NaN            Verified    986xx         WA      21320.0   \n",
       "270055               NaN            Verified    993xx         WA      19456.0   \n",
       "270155               NaN            Verified    995xx         AK      24531.0   \n",
       "270296               NaN        Not Verified    998xx         AK      92942.0   \n",
       "\n",
       "        ...  issue_d     issue_date issue_year  pymnt_plan        type  \\\n",
       "229     ...   Jun-16      June 2016     2016.0       False  INDIVIDUAL   \n",
       "259     ...   Feb-16  February 2016     2016.0       False  INDIVIDUAL   \n",
       "291     ...   Jun-16      June 2016     2016.0       False  INDIVIDUAL   \n",
       "323     ...   Jun-16      June 2016     2016.0       False  INDIVIDUAL   \n",
       "461     ...   Mar-16     March 2016     2016.0       False  INDIVIDUAL   \n",
       "...     ...      ...            ...        ...         ...         ...   \n",
       "269671  ...   Mar-16     March 2016     2016.0       False  INDIVIDUAL   \n",
       "269678  ...   Jun-16      June 2016     2016.0       False  INDIVIDUAL   \n",
       "270055  ...   Mar-16     March 2016     2016.0       False  INDIVIDUAL   \n",
       "270155  ...   Mar-16     March 2016     2016.0       False  INDIVIDUAL   \n",
       "270296  ...   Mar-16     March 2016     2016.0       False  INDIVIDUAL   \n",
       "\n",
       "                   purpose description  notes     region    subregion  \n",
       "229     debt_consolidation         NaN   desc  Northeast  New England  \n",
       "259            credit_card         NaN   desc  Northeast  New England  \n",
       "291     debt_consolidation         NaN   desc  Northeast  New England  \n",
       "323     debt_consolidation         NaN   desc  Northeast  New England  \n",
       "461     debt_consolidation         NaN   desc  Northeast  New England  \n",
       "...                    ...         ...    ...        ...          ...  \n",
       "269671  debt_consolidation         NaN   desc       West      Pacific  \n",
       "269678         credit_card         NaN   desc       West      Pacific  \n",
       "270055  debt_consolidation         NaN   desc       West      Pacific  \n",
       "270155         credit_card         NaN   desc       West      Pacific  \n",
       "270296         credit_card         NaN   desc       West      Pacific  \n",
       "\n",
       "[2343 rows x 30 columns]"
      ]
     },
     "execution_count": 38,
     "metadata": {},
     "output_type": "execute_result"
    }
   ],
   "source": [
    "combined_data[combined_data['description'].isna()]"
   ]
  },
  {
   "cell_type": "code",
   "execution_count": 39,
   "metadata": {},
   "outputs": [
    {
     "name": "stderr",
     "output_type": "stream",
     "text": [
      "C:\\Users\\USER\\AppData\\Local\\Temp\\ipykernel_15796\\638226074.py:1: FutureWarning: A value is trying to be set on a copy of a DataFrame or Series through chained assignment using an inplace method.\n",
      "The behavior will change in pandas 3.0. This inplace method will never work because the intermediate object on which we are setting values always behaves as a copy.\n",
      "\n",
      "For example, when doing 'df[col].method(value, inplace=True)', try using 'df.method({col: value}, inplace=True)' or df[col] = df[col].method(value) instead, to perform the operation inplace on the original object.\n",
      "\n",
      "\n",
      "  combined_data['emp_length'].fillna('Unknown',inplace=True)\n"
     ]
    }
   ],
   "source": [
    "combined_data['emp_length'].fillna('Unknown',inplace=True)"
   ]
  },
  {
   "cell_type": "code",
   "execution_count": 40,
   "metadata": {},
   "outputs": [
    {
     "data": {
      "text/plain": [
       "customer_id                 0\n",
       "emp_title               23662\n",
       "emp_length                  0\n",
       "home_ownership              0\n",
       "annual_inc                  0\n",
       "annual_inc_joint       251505\n",
       "verification_status         0\n",
       "zip_code                    0\n",
       "addr_state                  0\n",
       "avg_cur_bal                 0\n",
       "Tot_cur_bal                 0\n",
       "loan_id                     0\n",
       "loan_status                 0\n",
       "loan_amount                 0\n",
       "state                       0\n",
       "funded_amount               0\n",
       "term                        0\n",
       "int_rate                    0\n",
       "installment                 0\n",
       "grade                       0\n",
       "issue_d                     0\n",
       "issue_date                  0\n",
       "issue_year                  0\n",
       "pymnt_plan                  0\n",
       "type                        0\n",
       "purpose                     0\n",
       "description              2343\n",
       "notes                       0\n",
       "region                      0\n",
       "subregion                   0\n",
       "dtype: int64"
      ]
     },
     "execution_count": 40,
     "metadata": {},
     "output_type": "execute_result"
    }
   ],
   "source": [
    "combined_data.isna().sum()"
   ]
  },
  {
   "cell_type": "code",
   "execution_count": 41,
   "metadata": {},
   "outputs": [],
   "source": [
    "combined_data['annual_inc_joint']=combined_data['annual_inc_joint'].fillna(combined_data['annual_inc'])"
   ]
  },
  {
   "cell_type": "code",
   "execution_count": 42,
   "metadata": {},
   "outputs": [],
   "source": [
    "combined_data.drop(['customer_id','description','emp_title'],axis=1,inplace=True)"
   ]
  },
  {
   "cell_type": "code",
   "execution_count": 43,
   "metadata": {},
   "outputs": [
    {
     "data": {
      "text/plain": [
       "Index(['emp_length', 'home_ownership', 'annual_inc', 'annual_inc_joint',\n",
       "       'verification_status', 'zip_code', 'addr_state', 'avg_cur_bal',\n",
       "       'Tot_cur_bal', 'loan_id', 'loan_status', 'loan_amount', 'state',\n",
       "       'funded_amount', 'term', 'int_rate', 'installment', 'grade', 'issue_d',\n",
       "       'issue_date', 'issue_year', 'pymnt_plan', 'type', 'purpose', 'notes',\n",
       "       'region', 'subregion'],\n",
       "      dtype='object')"
      ]
     },
     "execution_count": 43,
     "metadata": {},
     "output_type": "execute_result"
    }
   ],
   "source": [
    "combined_data.columns"
   ]
  },
  {
   "cell_type": "code",
   "execution_count": 44,
   "metadata": {},
   "outputs": [
    {
     "data": {
      "text/plain": [
       "Index([], dtype='object')"
      ]
     },
     "execution_count": 44,
     "metadata": {},
     "output_type": "execute_result"
    }
   ],
   "source": [
    "missing_cols = combined_data.columns[combined_data.isna().sum() != 0]\n",
    "missing_cols"
   ]
  },
  {
   "cell_type": "code",
   "execution_count": 45,
   "metadata": {},
   "outputs": [],
   "source": [
    "combined_data.to_excel('cleaned_loan_data.xlsx', index=False)\n"
   ]
  },
  {
   "cell_type": "code",
   "execution_count": 46,
   "metadata": {},
   "outputs": [
    {
     "data": {
      "text/html": [
       "<div>\n",
       "<style scoped>\n",
       "    .dataframe tbody tr th:only-of-type {\n",
       "        vertical-align: middle;\n",
       "    }\n",
       "\n",
       "    .dataframe tbody tr th {\n",
       "        vertical-align: top;\n",
       "    }\n",
       "\n",
       "    .dataframe thead th {\n",
       "        text-align: right;\n",
       "    }\n",
       "</style>\n",
       "<table border=\"1\" class=\"dataframe\">\n",
       "  <thead>\n",
       "    <tr style=\"text-align: right;\">\n",
       "      <th></th>\n",
       "      <th>customer_id</th>\n",
       "      <th>emp_title</th>\n",
       "      <th>emp_length</th>\n",
       "      <th>home_ownership</th>\n",
       "      <th>annual_inc</th>\n",
       "      <th>annual_inc_joint</th>\n",
       "      <th>verification_status</th>\n",
       "      <th>zip_code</th>\n",
       "      <th>addr_state</th>\n",
       "      <th>avg_cur_bal</th>\n",
       "      <th>Tot_cur_bal</th>\n",
       "    </tr>\n",
       "  </thead>\n",
       "  <tbody>\n",
       "    <tr>\n",
       "      <th>1</th>\n",
       "      <td>b'c\\xe3S\\xf0yY7\\xba\\xda\\x16JF\\xec\\xbe\\xc0mY\\xd...</td>\n",
       "      <td>NaN</td>\n",
       "      <td>NaN</td>\n",
       "      <td>MORTGAGE</td>\n",
       "      <td>50000.0</td>\n",
       "      <td>NaN</td>\n",
       "      <td>Not Verified</td>\n",
       "      <td>010xx</td>\n",
       "      <td>MA</td>\n",
       "      <td>3418.0</td>\n",
       "      <td>23927.0</td>\n",
       "    </tr>\n",
       "    <tr>\n",
       "      <th>2</th>\n",
       "      <td>b'1\\xe3uD\\xe4\\x13\\x1f\\x80\\x1d\\xb1\\xa5\\x14x\\xac...</td>\n",
       "      <td>Care Giver</td>\n",
       "      <td>NaN</td>\n",
       "      <td>OWN</td>\n",
       "      <td>46800.0</td>\n",
       "      <td>NaN</td>\n",
       "      <td>Verified</td>\n",
       "      <td>010xx</td>\n",
       "      <td>MA</td>\n",
       "      <td>48173.0</td>\n",
       "      <td>240865.0</td>\n",
       "    </tr>\n",
       "  </tbody>\n",
       "</table>\n",
       "</div>"
      ],
      "text/plain": [
       "                                         customer_id   emp_title emp_length  \\\n",
       "1  b'c\\xe3S\\xf0yY7\\xba\\xda\\x16JF\\xec\\xbe\\xc0mY\\xd...         NaN        NaN   \n",
       "2  b'1\\xe3uD\\xe4\\x13\\x1f\\x80\\x1d\\xb1\\xa5\\x14x\\xac...  Care Giver        NaN   \n",
       "\n",
       "  home_ownership  annual_inc  annual_inc_joint verification_status zip_code  \\\n",
       "1       MORTGAGE     50000.0               NaN        Not Verified    010xx   \n",
       "2            OWN     46800.0               NaN            Verified    010xx   \n",
       "\n",
       "  addr_state  avg_cur_bal  Tot_cur_bal  \n",
       "1         MA       3418.0      23927.0  \n",
       "2         MA      48173.0     240865.0  "
      ]
     },
     "execution_count": 46,
     "metadata": {},
     "output_type": "execute_result"
    }
   ],
   "source": [
    "df = pd.DataFrame( df1.iloc[0:3],range(1,3), columns=df1.columns)\n",
    "df"
   ]
  }
 ],
 "metadata": {
  "kernelspec": {
   "display_name": "Python 3",
   "language": "python",
   "name": "python3"
  },
  "language_info": {
   "codemirror_mode": {
    "name": "ipython",
    "version": 3
   },
   "file_extension": ".py",
   "mimetype": "text/x-python",
   "name": "python",
   "nbconvert_exporter": "python",
   "pygments_lexer": "ipython3",
   "version": "3.12.7"
  }
 },
 "nbformat": 4,
 "nbformat_minor": 2
}
